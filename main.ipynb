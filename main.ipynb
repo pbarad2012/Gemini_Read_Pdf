{
  "cells": [
    {
      "cell_type": "markdown",
      "metadata": {
        "application/vnd.databricks.v1+cell": {
          "cellMetadata": {},
          "inputWidgets": {},
          "nuid": "207e4a4b-bb6e-443e-b243-2d859487a3e6",
          "showTitle": false,
          "title": ""
        },
        "id": "rT9NgJdc-8lk"
      },
      "source": [
        "### Install Libraries"
      ]
    },
    {
      "cell_type": "code",
      "execution_count": null,
      "metadata": {
        "application/vnd.databricks.v1+cell": {
          "cellMetadata": {
            "byteLimit": 2048000,
            "rowLimit": 10000
          },
          "inputWidgets": {},
          "nuid": "aaee321d-56f2-4288-9107-0794291834f4",
          "showTitle": false,
          "title": ""
        },
        "id": "FNp5-jUp-8lt",
        "outputId": "b85a29f5-9ba9-4f0f-9677-72290f9e86f0"
      },
      "outputs": [
        {
          "output_type": "stream",
          "name": "stdout",
          "text": [
            "Python interpreter will be restarted.\nCollecting pymupdf\n  Downloading PyMuPDF-1.24.9-cp39-none-manylinux2014_x86_64.whl (3.5 MB)\nCollecting PyMuPDFb==1.24.9\n  Downloading PyMuPDFb-1.24.9-py3-none-manylinux2014_x86_64.manylinux_2_17_x86_64.whl (15.9 MB)\nInstalling collected packages: PyMuPDFb, pymupdf\nSuccessfully installed PyMuPDFb-1.24.9 pymupdf-1.24.9\nPython interpreter will be restarted.\nPython interpreter will be restarted.\nCollecting openai\n  Downloading openai-1.40.6-py3-none-any.whl (361 kB)\nCollecting typing-extensions<5,>=4.11\n  Downloading typing_extensions-4.12.2-py3-none-any.whl (37 kB)\nCollecting httpx<1,>=0.23.0\n  Downloading httpx-0.27.0-py3-none-any.whl (75 kB)\nCollecting distro<2,>=1.7.0\n  Downloading distro-1.9.0-py3-none-any.whl (20 kB)\nCollecting jiter<1,>=0.4.0\n  Downloading jiter-0.5.0-cp39-cp39-manylinux_2_17_x86_64.manylinux2014_x86_64.whl (320 kB)\nCollecting sniffio\n  Downloading sniffio-1.3.1-py3-none-any.whl (10 kB)\nCollecting tqdm>4\n  Downloading tqdm-4.66.5-py3-none-any.whl (78 kB)\nCollecting pydantic<3,>=1.9.0\n  Downloading pydantic-2.8.2-py3-none-any.whl (423 kB)\nCollecting anyio<5,>=3.5.0\n  Downloading anyio-4.4.0-py3-none-any.whl (86 kB)\nRequirement already satisfied: idna>=2.8 in /databricks/python3/lib/python3.9/site-packages (from anyio<5,>=3.5.0->openai) (3.2)\nCollecting exceptiongroup>=1.0.2\n  Downloading exceptiongroup-1.2.2-py3-none-any.whl (16 kB)\nCollecting httpcore==1.*\n  Downloading httpcore-1.0.5-py3-none-any.whl (77 kB)\nRequirement already satisfied: certifi in /databricks/python3/lib/python3.9/site-packages (from httpx<1,>=0.23.0->openai) (2021.10.8)\nCollecting h11<0.15,>=0.13\n  Downloading h11-0.14.0-py3-none-any.whl (58 kB)\nCollecting pydantic-core==2.20.1\n  Downloading pydantic_core-2.20.1-cp39-cp39-manylinux_2_17_x86_64.manylinux2014_x86_64.whl (2.1 MB)\nCollecting annotated-types>=0.4.0\n  Downloading annotated_types-0.7.0-py3-none-any.whl (13 kB)\nInstalling collected packages: typing-extensions, sniffio, h11, exceptiongroup, pydantic-core, httpcore, anyio, annotated-types, tqdm, pydantic, jiter, httpx, distro, openai\n  Attempting uninstall: typing-extensions\n    Found existing installation: typing-extensions 3.10.0.2\n    Not uninstalling typing-extensions at /databricks/python3/lib/python3.9/site-packages, outside environment /local_disk0/.ephemeral_nfs/envs/pythonEnv-2925a6e6-ea32-4267-a9e8-5d35574a906e\n    Can't uninstall 'typing-extensions'. No files were found to uninstall.\n  Attempting uninstall: distro\n    Found existing installation: distro 1.4.0\n    Not uninstalling distro at /usr/lib/python3/dist-packages, outside environment /local_disk0/.ephemeral_nfs/envs/pythonEnv-2925a6e6-ea32-4267-a9e8-5d35574a906e\n    Can't uninstall 'distro'. No files were found to uninstall.\nSuccessfully installed annotated-types-0.7.0 anyio-4.4.0 distro-1.9.0 exceptiongroup-1.2.2 h11-0.14.0 httpcore-1.0.5 httpx-0.27.0 jiter-0.5.0 openai-1.40.6 pydantic-2.8.2 pydantic-core-2.20.1 sniffio-1.3.1 tqdm-4.66.5 typing-extensions-4.12.2\nPython interpreter will be restarted.\nPython interpreter will be restarted.\nCollecting torch\n  Downloading torch-2.4.0-cp39-cp39-manylinux1_x86_64.whl (797.2 MB)\nCollecting nvidia-cusparse-cu12==12.1.0.106\n  Downloading nvidia_cusparse_cu12-12.1.0.106-py3-none-manylinux1_x86_64.whl (196.0 MB)\nCollecting fsspec\n  Downloading fsspec-2024.6.1-py3-none-any.whl (177 kB)\nCollecting nvidia-nvtx-cu12==12.1.105\n  Downloading nvidia_nvtx_cu12-12.1.105-py3-none-manylinux1_x86_64.whl (99 kB)\nCollecting nvidia-cuda-runtime-cu12==12.1.105\n  Downloading nvidia_cuda_runtime_cu12-12.1.105-py3-none-manylinux1_x86_64.whl (823 kB)\nRequirement already satisfied: typing-extensions>=4.8.0 in /local_disk0/.ephemeral_nfs/envs/pythonEnv-2925a6e6-ea32-4267-a9e8-5d35574a906e/lib/python3.9/site-packages (from torch) (4.12.2)\nCollecting nvidia-nccl-cu12==2.20.5\n  Downloading nvidia_nccl_cu12-2.20.5-py3-none-manylinux2014_x86_64.whl (176.2 MB)\nCollecting triton==3.0.0\n  Downloading triton-3.0.0-1-cp39-cp39-manylinux2014_x86_64.manylinux_2_17_x86_64.whl (209.4 MB)\nCollecting nvidia-cublas-cu12==12.1.3.1\n  Downloading nvidia_cublas_cu12-12.1.3.1-py3-none-manylinux1_x86_64.whl (410.6 MB)\nRequirement already satisfied: jinja2 in /databricks/python3/lib/python3.9/site-packages (from torch) (2.11.3)\nCollecting nvidia-curand-cu12==10.3.2.106\n  Downloading nvidia_curand_cu12-10.3.2.106-py3-none-manylinux1_x86_64.whl (56.5 MB)\nCollecting networkx\n  Downloading networkx-3.2.1-py3-none-any.whl (1.6 MB)\nRequirement already satisfied: filelock in /usr/local/lib/python3.9/dist-packages (from torch) (3.8.0)\nCollecting nvidia-cuda-nvrtc-cu12==12.1.105\n  Downloading nvidia_cuda_nvrtc_cu12-12.1.105-py3-none-manylinux1_x86_64.whl (23.7 MB)\nCollecting nvidia-cuda-cupti-cu12==12.1.105\n  Downloading nvidia_cuda_cupti_cu12-12.1.105-py3-none-manylinux1_x86_64.whl (14.1 MB)\nCollecting nvidia-cusolver-cu12==11.4.5.107\n  Downloading nvidia_cusolver_cu12-11.4.5.107-py3-none-manylinux1_x86_64.whl (124.2 MB)\nCollecting nvidia-cufft-cu12==11.0.2.54\n  Downloading nvidia_cufft_cu12-11.0.2.54-py3-none-manylinux1_x86_64.whl (121.6 MB)\nCollecting nvidia-cudnn-cu12==9.1.0.70\n  Downloading nvidia_cudnn_cu12-9.1.0.70-py3-none-manylinux2014_x86_64.whl (664.8 MB)\nCollecting sympy\n  Downloading sympy-1.13.2-py3-none-any.whl (6.2 MB)\nCollecting nvidia-nvjitlink-cu12\n  Downloading nvidia_nvjitlink_cu12-12.6.20-py3-none-manylinux2014_x86_64.whl (19.7 MB)\nRequirement already satisfied: MarkupSafe>=0.23 in /databricks/python3/lib/python3.9/site-packages (from jinja2->torch) (2.0.1)\nCollecting mpmath<1.4,>=1.1.0\n  Downloading mpmath-1.3.0-py3-none-any.whl (536 kB)\nInstalling collected packages: nvidia-nvjitlink-cu12, nvidia-cusparse-cu12, nvidia-cublas-cu12, mpmath, triton, sympy, nvidia-nvtx-cu12, nvidia-nccl-cu12, nvidia-cusolver-cu12, nvidia-curand-cu12, nvidia-cufft-cu12, nvidia-cudnn-cu12, nvidia-cuda-runtime-cu12, nvidia-cuda-nvrtc-cu12, nvidia-cuda-cupti-cu12, networkx, fsspec, torch\nSuccessfully installed fsspec-2024.6.1 mpmath-1.3.0 networkx-3.2.1 nvidia-cublas-cu12-12.1.3.1 nvidia-cuda-cupti-cu12-12.1.105 nvidia-cuda-nvrtc-cu12-12.1.105 nvidia-cuda-runtime-cu12-12.1.105 nvidia-cudnn-cu12-9.1.0.70 nvidia-cufft-cu12-11.0.2.54 nvidia-curand-cu12-10.3.2.106 nvidia-cusolver-cu12-11.4.5.107 nvidia-cusparse-cu12-12.1.0.106 nvidia-nccl-cu12-2.20.5 nvidia-nvjitlink-cu12-12.6.20 nvidia-nvtx-cu12-12.1.105 sympy-1.13.2 torch-2.4.0 triton-3.0.0\nPython interpreter will be restarted.\nPython interpreter will be restarted.\nCollecting transformers\n  Downloading transformers-4.44.0-py3-none-any.whl (9.5 MB)\nCollecting regex!=2019.12.17\n  Downloading regex-2024.7.24-cp39-cp39-manylinux_2_17_x86_64.manylinux2014_x86_64.whl (775 kB)\nRequirement already satisfied: requests in /databricks/python3/lib/python3.9/site-packages (from transformers) (2.26.0)\nCollecting tokenizers<0.20,>=0.19\n  Downloading tokenizers-0.19.1-cp39-cp39-manylinux_2_17_x86_64.manylinux2014_x86_64.whl (3.6 MB)\nCollecting huggingface-hub<1.0,>=0.23.2\n  Downloading huggingface_hub-0.24.5-py3-none-any.whl (417 kB)\nRequirement already satisfied: packaging>=20.0 in /databricks/python3/lib/python3.9/site-packages (from transformers) (21.0)\nRequirement already satisfied: numpy>=1.17 in /databricks/python3/lib/python3.9/site-packages (from transformers) (1.20.3)\nRequirement already satisfied: tqdm>=4.27 in /local_disk0/.ephemeral_nfs/envs/pythonEnv-2925a6e6-ea32-4267-a9e8-5d35574a906e/lib/python3.9/site-packages (from transformers) (4.66.5)\nRequirement already satisfied: filelock in /usr/local/lib/python3.9/dist-packages (from transformers) (3.8.0)\nCollecting safetensors>=0.4.1\n  Downloading safetensors-0.4.4-cp39-cp39-manylinux_2_17_x86_64.manylinux2014_x86_64.whl (436 kB)\nCollecting pyyaml>=5.1\n  Downloading PyYAML-6.0.2-cp39-cp39-manylinux_2_17_x86_64.manylinux2014_x86_64.whl (737 kB)\nRequirement already satisfied: typing-extensions>=3.7.4.3 in /local_disk0/.ephemeral_nfs/envs/pythonEnv-2925a6e6-ea32-4267-a9e8-5d35574a906e/lib/python3.9/site-packages (from huggingface-hub<1.0,>=0.23.2->transformers) (4.12.2)\nRequirement already satisfied: fsspec>=2023.5.0 in /local_disk0/.ephemeral_nfs/envs/pythonEnv-2925a6e6-ea32-4267-a9e8-5d35574a906e/lib/python3.9/site-packages (from huggingface-hub<1.0,>=0.23.2->transformers) (2024.6.1)\nRequirement already satisfied: pyparsing>=2.0.2 in /databricks/python3/lib/python3.9/site-packages (from packaging>=20.0->transformers) (3.0.4)\nRequirement already satisfied: charset-normalizer~=2.0.0 in /databricks/python3/lib/python3.9/site-packages (from requests->transformers) (2.0.4)\nRequirement already satisfied: idna<4,>=2.5 in /databricks/python3/lib/python3.9/site-packages (from requests->transformers) (3.2)\nRequirement already satisfied: certifi>=2017.4.17 in /databricks/python3/lib/python3.9/site-packages (from requests->transformers) (2021.10.8)\nRequirement already satisfied: urllib3<1.27,>=1.21.1 in /databricks/python3/lib/python3.9/site-packages (from requests->transformers) (1.26.7)\nInstalling collected packages: pyyaml, huggingface-hub, tokenizers, safetensors, regex, transformers\nSuccessfully installed huggingface-hub-0.24.5 pyyaml-6.0.2 regex-2024.7.24 safetensors-0.4.4 tokenizers-0.19.1 transformers-4.44.0\nPython interpreter will be restarted.\n"
          ]
        }
      ],
      "source": [
        "%pip install pymupdf\n",
        "%pip install openai\n",
        "%pip install torch\n",
        "%pip install transformers"
      ]
    },
    {
      "cell_type": "markdown",
      "metadata": {
        "application/vnd.databricks.v1+cell": {
          "cellMetadata": {},
          "inputWidgets": {},
          "nuid": "244c2bf5-0e8f-4d11-999a-d21db0729317",
          "showTitle": false,
          "title": ""
        },
        "id": "GYSDjrSJ-8ly"
      },
      "source": [
        "#### Functions to read pdf file and convert to text\n"
      ]
    },
    {
      "cell_type": "code",
      "execution_count": null,
      "metadata": {
        "application/vnd.databricks.v1+cell": {
          "cellMetadata": {
            "byteLimit": 2048000,
            "rowLimit": 10000
          },
          "inputWidgets": {},
          "nuid": "2cae3466-455f-48c4-9588-ee17f1ed6dce",
          "showTitle": false,
          "title": ""
        },
        "id": "Ue5dF67R-8lz",
        "outputId": "24214b64-1284-4985-fa12-9b36d4e0395b"
      },
      "outputs": [
        {
          "output_type": "stream",
          "name": "stdout",
          "text": [
            "Extracting text from ../Team07_Assesment/Paris2024-QS-Athletics.pdf\n{'Paris2024-QS-Athletics.pdf': ' EVENTS (48)\\n QUOTAPLACES\\n Adhere to the rules outlinedin World Athletics’Eligibility rules(Book C3.3).-\\n Athletes who, whether directly or indirectly, are affiliated to, fall under the jurisdiction of or have otherwise agreed to abide by the rules and regulations of either the Russian Athletics Federation or the Belarus Athletic Federation or are citizens of and reside in Russia or Belarus are ineligible to qualifyto compete at the Olympic Games Paris 2024. C.\\n ATHLETE ELIGIBILITY \\n QUALIFICATION PATHWAY\\n By achieving the entry standard (see section I.) within the respective qualification period outlined below. The entry standards, approved by the World Athletics Council in November 2022, have been determined in order to target the qualification of approximately 50% of the athletes. For the avoidance of doubt, any athlete achieving the entry standard will be deemed qualified, regardless of them being within the 50% or not.-\\n The remaining qualification places will be allocated on the basis of the World Athletics World Rankings within the ranking period.Qualification and Ranking period-\\n For all individual events (except 10,000m, Marathon, Combined Events and Race Walks): from 1July2023 –30June 2024.-\\n For 10,000m, Combined Events, Race Walks and Relays: from 31December 2022 –30June 2024.-\\n For the Marathon: from 6November 2022 to 5May 2024.MarathonAny athlete ranked higher than the 65thathlete on the filtered Quota Place “Road to Paris” list on 30January 2024, will be considered qualified.-\\n After 30January 2024, the remaining 20% of the quota will be determined by the same twocriteria outlined above, without displacing the athletes qualified per 30January 2024.-\\n Any NOC may choose to reallocate a quota place to an unqualified athlete provided the athlete in thequalification window has achieved at least a 2:11:30h (men)/2:29:30h (women) performance.  World Athletics will publish the official qualification monitoring tool (Road to Paris) on the Stats Zone of the World Athletics websitein autumn 2023. Regardless of the qualification pathway, the maximum quota per NOC per event must be respected and the number of entries per event (in section B.) cannot be exceeded.Qualification events:GeneralAll performances must be achieved during competitions organised or authorisedby World Athletics, its Area Associations or its National Federations in conformity with World Athletics Rulesand published on the World Athletics Global Calendar.Special conditions for validity of performances-\\n For those Member Federations placed by World Athletics on the Results Manipulation Watchlistavailablehere, for the purpose of qualification (whether by Entry Standard or by World Rankings) to the Olympic Games Paris 2024, World Athletics will only \\no Official International or Area Championships;\\no Competitions which form part of the following International Competition structures:–       Diamond League–       Continental Tour–       World Indoor Tour–       World Race Walking Tour–       World Combined Events Tour–       World Cross Country Tour–       World Athletics Label Road Race\\no National Senior Championships subject to a specific application to be submitted to World Athletics at least 30 days in advance (competition@worldathletics.org)-\\n Performances achieved in mixed competitions in track events will not be accepted. Exceptionally, in accordance with World Athletics Technical Rule 9, performances achieved in events of 5000m and 10,000m may be accepted in circumstances where there were insufficient athletes of one or both genders competing to justify the conduct of separate races and there was no pacing or assistance given by an athlete(s) of one gender to an athlete(s) of theother gender.-\\n Performances which are wind-assisted or for which a wind reading is not available shall not be accepted for Entry Standard purposes (but will be valid for the World Athletics World Rankings with the appropriate adjustments).-\\n Hand timing performances in 100m, 200m, 400m, 800m, 110m/100m Hurdles, 400m Hurdles and 4x100m Relay will not be accepted.-\\n Indoor performances for all field events and for races of 200m and longer, will be accepted.-\\n For the running events of 200m and over (including combined events), performances achieved on oversized indoor tracks shall be accepted according to Technical Rule 11.-\\n For the Combined Events at least one of these conditions must be met:\\no The wind velocity in any individual event shall not exceed plus 4 metres per second.\\no The average wind velocity (based on the algebraic sum of the wind velocities, as measured for each individual event, divided by the number of such events) shall not exceed plus 2 metres per second.-\\n For the 1,500m, the 5,000m and the 10,000mit is possible to achieve the entry standard   in the equivalent road running distance (road mile, 5km, 10km respectively).-\\n For the 10,000m, the below applies:\\no The top 8 from the World Cross Country Ranking not directly qualified through entry standard or World 10,000m Ranking, will be considered as having achieved the entry standard.-\\n For the Marathons, the below applies:\\no Performances for qualifying purposes may only be achieved on a course measured by a World Athletics /AIMS Grade “A” or “B” International Road Race Course Measurer with the measurement certificate established no more than 5 years before the date of the race.\\no For entry standards the overall decrease in elevation between the start and the finish shall not exceed 1:1000, i.e. 1m per km.\\no The following will also be considered as having achieved the Entry Standard(and listed first on the Road to Paris as at 30 January 2024):\\n▪ First 5 finishers at the Platinum Label Marathons held during the period from 6November 2022 to 30 April 2024.\\no For world rankings in case of performances achieved on courses with a drop in elevation which exceeds 1:1000 a correction will be made in the result score from which points will be deducted depending onthe drop.World Athletics publishes on its websitea list of courses and competitions that comply with the above.-\\n For the Race Walks, the below applies:\\no Performances for qualifying purposes may only be achieved on a course measured by a World Athletics/AIMS Grade “A” or “B” International Road Race Course Measurer with the measurement certificate established no more than 5 years before the date of the race.\\no A minimum of 3 International or Area Race Walking Judges must be on duty.\\no Track performances (20,000m) and performances achieved in competitions conducted with the penalty zone rule shall be accepted.\\no In the case of the Marathon Race Walk Mixed Relay:\\n▪ The first 22 teams at the World Race Walk Team Championships Antalya 2024 shall automatically qualify for the MarathonRace WalkMixed Relayevent at the Olympic Games Paris 2024.Up to five of the first 22 teams can be a second team of the same country (NOC).\\n▪ Three additional teams coming from the Marathon Race Walk Mixed Relay top performance lists in the qualification period (31 December 2022 –30 June 2024) and staged at events which comply with the Race Walking competition requirements (certified course and international judges). For the results to be valid for qualification purposes, a minimum of two international teams, representing at least two countries, must compete in the race and each athlete must walk a minimum of 20km between their two legs.These three additional teams cannot be from a country already qualified from the World Race Walk Team Championships 2024.Relay qualificationNumber of quota placesQualification eventsThere shall be a maximum of 16qualified teams in each relay eventWorld Athletics RelaysBahamas 24The first 14placed NOCs at the World Athletics Relays Bahamas 2024 shall automatically qualify for the relay eventsat Olympic Games Paris 2024.NOCs will have two opportunities to qualify at the World Athletics Relays, in case unsuccessful on day 1 another chance will be provided on day 2 of the competition.World Athletics Performance listThe remaining teams will be selected according to World Athletics performance list for relaysduring the qualification period 31December 2022 –30June 2024. For the results to be valid for qualification purposes, a minimum of two different  international  teams,  representing  at  least  two countries, must compete in the race. World Athletics will informthe NOCs ofeach of these national teams of their eligibility to compete in the Olympic Games relay competitions. \\n CONFIRMATION PROCESS FOR QUOTA PLACESF.\\n REALLOCATION OF UNUSED QUOTA PLACES\\n they were nominated as reserve for that event at the time of the final entry deadline-\\n they have achieved the entry standard or have qualified by virtue of their World Athletics World Rankings position-\\n that the NOC quota for that event is respectedReserve athletes must comply with the same eligibility rules as competing athletes as described in aboveparagraph C. Athlete Eligibility.G.2.APALTERNATE ATHLETESAp alternate athletes are non-competing athletes andare not included within the athletes’ quota as described in paragraph B. QuotaPlaces.If an NOC has entered three athletes in one event, they are entitled to nominate one Ap alternate athlete for the same event provided:-\\n he/she was nominated as alternate for that event at the time of the final entry deadline-\\n he/she has achieved the entry standard or has qualified by virtue of the World Athletics World Rankings position Ap alternate athletes must comply with the same eligibility rules as competing athletes as described in above paragraph C. Athlete Eligibility. Ap alternate athletes can only become competing athletes as per the conditions outlined in the Late Athlete Replacement policy.G.\\n GENERAL PRINCIPLES OF RESERVE AND AP ATHLETES\\n QUALIFICATION TIMELINE\\n The entry standards below have beenapproved by World Athletics Council in November2022.\\n MenEventWomen10.00100m11.0720.16200m22.5745.00400m50.951:44.70800m1:59.303:33.50 (3:50.40)1500m(Mile)4:02.50 (4:20.90)13:05.005000m14:52.0027:00.0010,000m30:40.0013.27110m Hurdles / 100m Hurdles12.7748.70400m Hurdles54.858:15.003000m Steeplechase9:23.002.33High Jump1.975.82Pole Vault4.738.27Long Jump6.8617.22Triple Jump14.5521.50Shot Put18.8067.20Discus Throw64.5078.20Hammer Throw74.0085.50Javelin Throw64.008,460Decathlon / Heptathlon6,4801:20:1020km Race Walk1:29:202:08:10Marathon2:26:50\\n I.\\n ENTRY STANDARDSJ.\\n \\n'}\n"
          ]
        }
      ],
      "source": [
        "import fitz  # PyMuPDF\n",
        "import os\n",
        "from transformers import pipeline\n",
        "\n",
        "pdf_dir = \"../Team07_Assesment\"\n",
        "\n",
        "def pdf_to_text(pdf_path):\n",
        "    doc = fitz.open(pdf_path)\n",
        "    text = \"\"\n",
        "    for page_num in range(doc.page_count):\n",
        "        page = doc.load_page(page_num)\n",
        "        text += page.get_text()\n",
        "\n",
        "    return text\n",
        "\n",
        "pdf_texts = {}\n",
        "for pdf_file in os.listdir(pdf_dir):\n",
        "    if pdf_file.lower().endswith('.pdf'):\n",
        "        pdf_path = os.path.join(pdf_dir, pdf_file)\n",
        "\n",
        "        print(f\"Extracting text from {pdf_path}\")\n",
        "        text = pdf_to_text(pdf_path)\n",
        "        pdf_texts[pdf_file] = text\n",
        "\n",
        "print(pdf_texts)"
      ]
    },
    {
      "cell_type": "markdown",
      "metadata": {
        "application/vnd.databricks.v1+cell": {
          "cellMetadata": {},
          "inputWidgets": {},
          "nuid": "ddd1c944-b622-42ca-b168-fe408bbbcaaa",
          "showTitle": false,
          "title": ""
        },
        "id": "vW-5xUTJ-8l1"
      },
      "source": [
        "#### Read pdf using Tesseract-OCR"
      ]
    },
    {
      "cell_type": "code",
      "execution_count": null,
      "metadata": {
        "application/vnd.databricks.v1+cell": {
          "cellMetadata": {},
          "inputWidgets": {},
          "nuid": "2cfba290-de8e-4fe5-ae40-2e4c8a99db5b",
          "showTitle": false,
          "title": ""
        },
        "id": "2h0IWmWb-8l2"
      },
      "outputs": [],
      "source": [
        "import fitz  # PyMuPDF\n",
        "import pytesseract\n",
        "from PIL import Image\n",
        "import io\n",
        "import os\n",
        "\n",
        "# Function to extract text from a PDF file\n",
        "def extract_text_from_pdf(pdf_path):\n",
        "    text = \"\"\n",
        "    pdf_document = fitz.open(pdf_path)\n",
        "    pytesseract.pytesseract.tesseract_cmd = r'C:\\Program Files (x86)\\Tesseract-OCR\\tesseract.exe'\n",
        "\n",
        "    # Loop through each page\n",
        "    for page_num in range(len(pdf_document)):\n",
        "        page = pdf_document.load_page(page_num)\n",
        "\n",
        "        # Extract text\n",
        "        text += page.get_text(\"text\")\n",
        "\n",
        "        # Extract images\n",
        "        images = page.get_images(full=True)\n",
        "        for image_index, img in enumerate(images):\n",
        "            base_image = pdf_document.extract_image(img[0])\n",
        "            image_bytes = base_image[\"image\"]\n",
        "            image_ext = base_image[\"ext\"]\n",
        "            image = Image.open(io.BytesIO(image_bytes))\n",
        "\n",
        "            # Save the image temporarily\n",
        "            image_path = f\"image_{page_num+1}_{image_index+1}.{image_ext}\"\n",
        "            image.save(image_path)\n",
        "\n",
        "            # Perform OCR on the image\n",
        "            ocr_text = pytesseract.image_to_string(image)\n",
        "            text += \"\\n\\n[OCR Result from Image]:\\n\" + ocr_text\n",
        "\n",
        "            # Optionally, remove the image after OCR processing\n",
        "            os.remove(image_path)\n",
        "\n",
        "    pdf_document.close()\n",
        "    return text\n",
        "\n",
        "# Provide the path to your PDF\n",
        "pdf_path = \"Paris2024-QS-Athletics.pdf\"\n",
        "\n",
        "# Extract text from PDF\n",
        "extracted_text = extract_text_from_pdf(pdf_path)\n",
        "\n",
        "# Save extracted text to a file\n",
        "with open(\"extracted_text.txt\", \"w\", encoding=\"utf-8\") as text_file:\n",
        "    text_file.write(extracted_text)\n",
        "\n",
        "print(\"Text extraction completed.\")\n"
      ]
    },
    {
      "cell_type": "code",
      "execution_count": null,
      "metadata": {
        "application/vnd.databricks.v1+cell": {
          "cellMetadata": {
            "byteLimit": 2048000,
            "rowLimit": 10000
          },
          "inputWidgets": {},
          "nuid": "7e91ff6b-54d5-41c0-86c0-04e76027dfe8",
          "showTitle": false,
          "title": ""
        },
        "id": "gXHorIuQ-8l4"
      },
      "outputs": [],
      "source": [
        "def read_text_file(file_path):\n",
        "    \"\"\"Read the content of a text file and return it as a string.\"\"\"\n",
        "    try:\n",
        "        with open(file_path, 'r', encoding='utf-8') as file:\n",
        "            content = file.read()\n",
        "        return content\n",
        "    except Exception as e:\n",
        "        return f\"An error occurred: {str(e)}\"\n",
        "\n",
        "pdf_texts = read_text_file(\"../Team07_Assesment/team7_assessment.txt\")"
      ]
    },
    {
      "cell_type": "code",
      "execution_count": null,
      "metadata": {
        "application/vnd.databricks.v1+cell": {
          "cellMetadata": {
            "byteLimit": 2048000,
            "rowLimit": 10000
          },
          "inputWidgets": {},
          "nuid": "62d20254-0d84-4374-af0c-0a9de4a8e17d",
          "showTitle": false,
          "title": ""
        },
        "id": "99AGlGjA-8l5",
        "outputId": "96159181-f57c-4083-dddd-a376f584b3a1"
      },
      "outputs": [
        {
          "output_type": "stream",
          "name": "stdout",
          "text": [
            "Python interpreter will be restarted.\nRequirement already satisfied: cohere in /local_disk0/.ephemeral_nfs/envs/pythonEnv-2925a6e6-ea32-4267-a9e8-5d35574a906e/lib/python3.9/site-packages (5.8.0)\nRequirement already satisfied: httpx-sse==0.4.0 in /local_disk0/.ephemeral_nfs/envs/pythonEnv-2925a6e6-ea32-4267-a9e8-5d35574a906e/lib/python3.9/site-packages (from cohere) (0.4.0)\nRequirement already satisfied: tokenizers<1,>=0.15 in /local_disk0/.ephemeral_nfs/envs/pythonEnv-2925a6e6-ea32-4267-a9e8-5d35574a906e/lib/python3.9/site-packages (from cohere) (0.19.1)\nRequirement already satisfied: parameterized<0.10.0,>=0.9.0 in /local_disk0/.ephemeral_nfs/envs/pythonEnv-2925a6e6-ea32-4267-a9e8-5d35574a906e/lib/python3.9/site-packages (from cohere) (0.9.0)\nRequirement already satisfied: boto3<2.0.0,>=1.34.0 in /local_disk0/.ephemeral_nfs/envs/pythonEnv-2925a6e6-ea32-4267-a9e8-5d35574a906e/lib/python3.9/site-packages (from cohere) (1.34.161)\nRequirement already satisfied: httpx>=0.21.2 in /local_disk0/.ephemeral_nfs/envs/pythonEnv-2925a6e6-ea32-4267-a9e8-5d35574a906e/lib/python3.9/site-packages (from cohere) (0.27.0)\nRequirement already satisfied: types-requests<3.0.0,>=2.0.0 in /local_disk0/.ephemeral_nfs/envs/pythonEnv-2925a6e6-ea32-4267-a9e8-5d35574a906e/lib/python3.9/site-packages (from cohere) (2.31.0.6)\nRequirement already satisfied: fastavro<2.0.0,>=1.9.4 in /local_disk0/.ephemeral_nfs/envs/pythonEnv-2925a6e6-ea32-4267-a9e8-5d35574a906e/lib/python3.9/site-packages (from cohere) (1.9.5)\nRequirement already satisfied: pydantic>=1.9.2 in /local_disk0/.ephemeral_nfs/envs/pythonEnv-2925a6e6-ea32-4267-a9e8-5d35574a906e/lib/python3.9/site-packages (from cohere) (2.8.2)\nRequirement already satisfied: typing_extensions>=4.0.0 in /local_disk0/.ephemeral_nfs/envs/pythonEnv-2925a6e6-ea32-4267-a9e8-5d35574a906e/lib/python3.9/site-packages (from cohere) (4.12.2)\nRequirement already satisfied: requests<3.0.0,>=2.0.0 in /databricks/python3/lib/python3.9/site-packages (from cohere) (2.26.0)\nRequirement already satisfied: pydantic-core<3.0.0,>=2.18.2 in /local_disk0/.ephemeral_nfs/envs/pythonEnv-2925a6e6-ea32-4267-a9e8-5d35574a906e/lib/python3.9/site-packages (from cohere) (2.20.1)\nRequirement already satisfied: s3transfer<0.11.0,>=0.10.0 in /local_disk0/.ephemeral_nfs/envs/pythonEnv-2925a6e6-ea32-4267-a9e8-5d35574a906e/lib/python3.9/site-packages (from boto3<2.0.0,>=1.34.0->cohere) (0.10.2)\nRequirement already satisfied: botocore<1.35.0,>=1.34.161 in /local_disk0/.ephemeral_nfs/envs/pythonEnv-2925a6e6-ea32-4267-a9e8-5d35574a906e/lib/python3.9/site-packages (from boto3<2.0.0,>=1.34.0->cohere) (1.34.161)\nRequirement already satisfied: jmespath<2.0.0,>=0.7.1 in /databricks/python3/lib/python3.9/site-packages (from boto3<2.0.0,>=1.34.0->cohere) (0.10.0)\nRequirement already satisfied: python-dateutil<3.0.0,>=2.1 in /databricks/python3/lib/python3.9/site-packages (from botocore<1.35.0,>=1.34.161->boto3<2.0.0,>=1.34.0->cohere) (2.8.2)\nRequirement already satisfied: urllib3<1.27,>=1.25.4 in /databricks/python3/lib/python3.9/site-packages (from botocore<1.35.0,>=1.34.161->boto3<2.0.0,>=1.34.0->cohere) (1.26.7)\nRequirement already satisfied: httpcore==1.* in /local_disk0/.ephemeral_nfs/envs/pythonEnv-2925a6e6-ea32-4267-a9e8-5d35574a906e/lib/python3.9/site-packages (from httpx>=0.21.2->cohere) (1.0.5)\nRequirement already satisfied: idna in /databricks/python3/lib/python3.9/site-packages (from httpx>=0.21.2->cohere) (3.2)\nRequirement already satisfied: certifi in /databricks/python3/lib/python3.9/site-packages (from httpx>=0.21.2->cohere) (2021.10.8)\nRequirement already satisfied: anyio in /local_disk0/.ephemeral_nfs/envs/pythonEnv-2925a6e6-ea32-4267-a9e8-5d35574a906e/lib/python3.9/site-packages (from httpx>=0.21.2->cohere) (4.4.0)\nRequirement already satisfied: sniffio in /local_disk0/.ephemeral_nfs/envs/pythonEnv-2925a6e6-ea32-4267-a9e8-5d35574a906e/lib/python3.9/site-packages (from httpx>=0.21.2->cohere) (1.3.1)\nRequirement already satisfied: h11<0.15,>=0.13 in /local_disk0/.ephemeral_nfs/envs/pythonEnv-2925a6e6-ea32-4267-a9e8-5d35574a906e/lib/python3.9/site-packages (from httpcore==1.*->httpx>=0.21.2->cohere) (0.14.0)\nRequirement already satisfied: annotated-types>=0.4.0 in /local_disk0/.ephemeral_nfs/envs/pythonEnv-2925a6e6-ea32-4267-a9e8-5d35574a906e/lib/python3.9/site-packages (from pydantic>=1.9.2->cohere) (0.7.0)\nRequirement already satisfied: six>=1.5 in /databricks/python3/lib/python3.9/site-packages (from python-dateutil<3.0.0,>=2.1->botocore<1.35.0,>=1.34.161->boto3<2.0.0,>=1.34.0->cohere) (1.16.0)\nRequirement already satisfied: charset-normalizer~=2.0.0 in /databricks/python3/lib/python3.9/site-packages (from requests<3.0.0,>=2.0.0->cohere) (2.0.4)\nRequirement already satisfied: huggingface-hub<1.0,>=0.16.4 in /local_disk0/.ephemeral_nfs/envs/pythonEnv-2925a6e6-ea32-4267-a9e8-5d35574a906e/lib/python3.9/site-packages (from tokenizers<1,>=0.15->cohere) (0.24.5)\nRequirement already satisfied: filelock in /usr/local/lib/python3.9/dist-packages (from huggingface-hub<1.0,>=0.16.4->tokenizers<1,>=0.15->cohere) (3.8.0)\nRequirement already satisfied: fsspec>=2023.5.0 in /local_disk0/.ephemeral_nfs/envs/pythonEnv-2925a6e6-ea32-4267-a9e8-5d35574a906e/lib/python3.9/site-packages (from huggingface-hub<1.0,>=0.16.4->tokenizers<1,>=0.15->cohere) (2024.6.1)\nRequirement already satisfied: tqdm>=4.42.1 in /local_disk0/.ephemeral_nfs/envs/pythonEnv-2925a6e6-ea32-4267-a9e8-5d35574a906e/lib/python3.9/site-packages (from huggingface-hub<1.0,>=0.16.4->tokenizers<1,>=0.15->cohere) (4.66.5)\nRequirement already satisfied: packaging>=20.9 in /databricks/python3/lib/python3.9/site-packages (from huggingface-hub<1.0,>=0.16.4->tokenizers<1,>=0.15->cohere) (21.0)\nRequirement already satisfied: pyyaml>=5.1 in /local_disk0/.ephemeral_nfs/envs/pythonEnv-2925a6e6-ea32-4267-a9e8-5d35574a906e/lib/python3.9/site-packages (from huggingface-hub<1.0,>=0.16.4->tokenizers<1,>=0.15->cohere) (6.0.2)\nRequirement already satisfied: pyparsing>=2.0.2 in /databricks/python3/lib/python3.9/site-packages (from packaging>=20.9->huggingface-hub<1.0,>=0.16.4->tokenizers<1,>=0.15->cohere) (3.0.4)\nRequirement already satisfied: types-urllib3 in /local_disk0/.ephemeral_nfs/envs/pythonEnv-2925a6e6-ea32-4267-a9e8-5d35574a906e/lib/python3.9/site-packages (from types-requests<3.0.0,>=2.0.0->cohere) (1.26.25.14)\nRequirement already satisfied: exceptiongroup>=1.0.2 in /local_disk0/.ephemeral_nfs/envs/pythonEnv-2925a6e6-ea32-4267-a9e8-5d35574a906e/lib/python3.9/site-packages (from anyio->httpx>=0.21.2->cohere) (1.2.2)\nPython interpreter will be restarted.\n"
          ]
        }
      ],
      "source": [
        "pip install cohere"
      ]
    },
    {
      "cell_type": "code",
      "execution_count": null,
      "metadata": {
        "application/vnd.databricks.v1+cell": {
          "cellMetadata": {
            "byteLimit": 2048000,
            "rowLimit": 10000
          },
          "inputWidgets": {},
          "nuid": "eca13982-71a8-4868-b916-acadc36d721b",
          "showTitle": false,
          "title": ""
        },
        "id": "bZ_8zAK9-8l6",
        "outputId": "311140cf-5a18-4bc6-f06b-802f748e38bb"
      },
      "outputs": [
        {
          "output_type": "stream",
          "name": "stdout",
          "text": [
            "question: What are the eligibility rules for athletes from Russia or Belarus?\nAnswer: I am unable to provide information on the eligibility rules for athletes from Russia or Belarus as the context you provided appears to be unrelated. Please provide a clear and relevant context for the information you are seeking and I will do my best to assist you.\nI am unable to provide information on the eligibility rules for athletes from Russia or Belarus as the context you provided appears to be unrelated. Please provide a clear and relevant context for the information you are seeking and I will do my best to assist you.\n"
          ]
        }
      ],
      "source": [
        "import cohere\n",
        "\n",
        "cohere_client = cohere.Client('key')\n",
        "first_pdf_text = list(pdf_texts.values())[0]\n",
        "\n",
        "def generate_text_with_cohere(question,context):\n",
        "    prompt = f\"Context: {first_pdf_text}\\n\\nQuestion: {question}\\nAnswer:\"\n",
        "    try:\n",
        "        response = cohere_client.generate(\n",
        "            prompt=prompt,\n",
        "            max_tokens=100,\n",
        "            temperature=0.7\n",
        "        )\n",
        "        return response.generations[0].text.strip()\n",
        "    except Exception as e:\n",
        "        return f\"An error occurred: {str(e)}\"\n",
        "\n",
        "questions = [\n",
        "        \"What is the qualification period for the marathon?\",\n",
        "        \"What are the eligibility rules for athletes from Russia or Belarus?\"\n",
        "        ]\n",
        "for question in questions:\n",
        "    response = generate_text_with_cohere(question,first_pdf_text)\n",
        "    print(f\"question: {question}\")\n",
        "    print(f\"Answer: {response}\")\n",
        "print(response)"
      ]
    },
    {
      "cell_type": "markdown",
      "metadata": {
        "application/vnd.databricks.v1+cell": {
          "cellMetadata": {},
          "inputWidgets": {},
          "nuid": "e2fce93c-8489-4e10-b4bc-13ecb36c018b",
          "showTitle": false,
          "title": ""
        },
        "id": "pZaZ6McK-8l8"
      },
      "source": [
        "#### Local Model : Hugging Face"
      ]
    },
    {
      "cell_type": "code",
      "execution_count": null,
      "metadata": {
        "application/vnd.databricks.v1+cell": {
          "cellMetadata": {
            "byteLimit": 2048000,
            "rowLimit": 10000
          },
          "inputWidgets": {},
          "nuid": "d06c67ec-d5eb-43ee-a1f3-c45ce7ad3794",
          "showTitle": false,
          "title": ""
        },
        "id": "m0UsgCmK-8l9"
      },
      "outputs": [],
      "source": [
        "import transformers\n",
        "import torch\n",
        "\n",
        "def ask_local_model(question, context):\n",
        "    model_id = \"distilbert-base-cased-distilled-squad\"\n",
        "\n",
        "    pipeline = transformers.pipeline(\n",
        "        \"question-answering\", model=model_id, tokenizer=model_id, device=0 if torch.cuda.is_available() else -1\n",
        "    )\n",
        "    result = pipeline(question=question, context=context)\n",
        "\n",
        "    return result['answer']\n"
      ]
    },
    {
      "cell_type": "code",
      "execution_count": null,
      "metadata": {
        "application/vnd.databricks.v1+cell": {
          "cellMetadata": {
            "byteLimit": 2048000,
            "rowLimit": 10000
          },
          "inputWidgets": {},
          "nuid": "1e837094-5b5b-4524-93d5-b1972f57da38",
          "showTitle": false,
          "title": ""
        },
        "id": "7Y2Mz3jj-8l9",
        "outputId": "526facc1-5c1a-4a35-c368-129b30984c9a"
      },
      "outputs": [
        {
          "output_type": "stream",
          "name": "stdout",
          "text": [
            "question: What is the qualification period for the marathon?\nAnswer: 31December 2022 –30June 2024\nquestion: What are the eligibility rules for athletes from Russia or Belarus?\nAnswer: ineligible to qualifyto compete at the Olympic Games Paris 2024\nquestion: What are the entry standards for the marathon at the Paris 2024 Olympics?\nAnswer: 50%\n"
          ]
        }
      ],
      "source": [
        "def main():\n",
        "    first_pdf_text = list(pdf_texts.values())[0]\n",
        "    questions = [\n",
        "        \"What is the qualification period for the marathon?\",\n",
        "        \"What are the eligibility rules for athletes from Russia or Belarus?\",\n",
        "        \"What are the entry standards for the marathon at the Paris 2024 Olympics?\"\n",
        "    ]\n",
        "    for question in questions:\n",
        "        local_answer = ask_local_model(question, first_pdf_text)\n",
        "        print(f\"question: {question}\")\n",
        "        print(f\"Answer: {local_answer}\")\n",
        "main()"
      ]
    }
  ],
  "metadata": {
    "application/vnd.databricks.v1+notebook": {
      "dashboards": [],
      "environmentMetadata": null,
      "language": "python",
      "notebookMetadata": {
        "pythonIndentUnit": 4
      },
      "notebookName": "team7_assessment",
      "widgets": {}
    },
    "colab": {
      "provenance": []
    }
  },
  "nbformat": 4,
  "nbformat_minor": 0
}